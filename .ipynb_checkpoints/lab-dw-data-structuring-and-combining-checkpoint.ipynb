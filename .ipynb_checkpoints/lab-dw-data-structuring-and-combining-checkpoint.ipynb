{
 "cells": [
  {
   "cell_type": "markdown",
   "id": "25d7736c-ba17-4aff-b6bb-66eba20fbf4e",
   "metadata": {
    "id": "25d7736c-ba17-4aff-b6bb-66eba20fbf4e"
   },
   "source": [
    "# Lab | Data Structuring and Combining Data"
   ]
  },
  {
   "cell_type": "markdown",
   "id": "a2cdfc70-44c8-478c-81e7-2bc43fdf4986",
   "metadata": {
    "id": "a2cdfc70-44c8-478c-81e7-2bc43fdf4986"
   },
   "source": [
    "## Challenge 1: Combining & Cleaning Data\n",
    "\n",
    "In this challenge, we will be working with the customer data from an insurance company, as we did in the two previous labs. The data can be found here:\n",
    "- https://raw.githubusercontent.com/data-bootcamp-v4/data/main/file1.csv\n",
    "\n",
    "But this time, we got new data, which can be found in the following 2 CSV files located at the links below.\n",
    "\n",
    "- https://raw.githubusercontent.com/data-bootcamp-v4/data/main/file2.csv\n",
    "- https://raw.githubusercontent.com/data-bootcamp-v4/data/main/file3.csv\n",
    "\n",
    "Note that you'll need to clean and format the new data.\n",
    "\n",
    "Observation:\n",
    "- One option is to first combine the three datasets and then apply the cleaning function to the new combined dataset\n",
    "- Another option would be to read the clean file you saved in the previous lab, and just clean the two new files and concatenate the three clean datasets"
   ]
  },
  {
   "cell_type": "code",
   "execution_count": 35,
   "id": "492d06e3-92c7-4105-ac72-536db98d3244",
   "metadata": {
    "id": "492d06e3-92c7-4105-ac72-536db98d3244"
   },
   "outputs": [],
   "source": [
    "# Your code goes here\n",
    "import pandas as pd\n",
    "df1 = pd.read_csv('https://raw.githubusercontent.com/data-bootcamp-v4/data/main/file1.csv')\n",
    "df2 = pd.read_csv('https://raw.githubusercontent.com/data-bootcamp-v4/data/main/file2.csv')\n",
    "df3 = pd.read_csv('https://raw.githubusercontent.com/data-bootcamp-v4/data/main/file3.csv')"
   ]
  },
  {
   "cell_type": "code",
   "execution_count": 38,
   "id": "b81bba90",
   "metadata": {},
   "outputs": [],
   "source": [
    "three = (df1,df2,df3)"
   ]
  },
  {
   "cell_type": "code",
   "execution_count": 39,
   "id": "0e818c7d",
   "metadata": {},
   "outputs": [],
   "source": [
    "for data in three:\n",
    "    data.columns = data.columns.str.lower()"
   ]
  },
  {
   "cell_type": "code",
   "execution_count": 49,
   "id": "60b5fa5b",
   "metadata": {},
   "outputs": [
    {
     "name": "stdout",
     "output_type": "stream",
     "text": [
      "(4008, 11)\n",
      "(996, 11)\n",
      "(7070, 11)\n",
      "Index(['customer', 'state', 'gender', 'education', 'customer_lifetime_value',\n",
      "       'income', 'monthly_premium_auto', 'number_of_open_complaints',\n",
      "       'policy_type', 'vehicle_class', 'total_claim_amount'],\n",
      "      dtype='object')\n",
      "Index(['customer', 'state', 'gender', 'education', 'customer_lifetime_value',\n",
      "       'income', 'monthly_premium_auto', 'number_of_open_complaints',\n",
      "       'total_claim_amount', 'policy_type', 'vehicle_class'],\n",
      "      dtype='object')\n",
      "Index(['customer', 'state', 'customer_lifetime_value', 'education', 'gender',\n",
      "       'income', 'monthly_premium_auto', 'number_of_open_complaints',\n",
      "       'policy_type', 'total_claim_amount', 'vehicle_class'],\n",
      "      dtype='object')\n"
     ]
    }
   ],
   "source": [
    "for data in three:\n",
    "    print(data.shape)\n",
    "    \n",
    "for data in three:\n",
    "    column_names = data.columns\n",
    "    print(column_names)\n",
    "    \n"
   ]
  },
  {
   "cell_type": "code",
   "execution_count": 41,
   "id": "ac3d9c62",
   "metadata": {},
   "outputs": [],
   "source": [
    "for data in three:\n",
    "    \n",
    "    data.columns = data.columns.str.replace(' ', '_')\n",
    "    data.rename(columns={'st': 'state'}, inplace=True)\n",
    "\n",
    "    data.loc[(data['gender'] == 'Femal') | (data['gender'] == 'female'), 'gender'] = 'F'\n",
    "\n",
    "    data.loc[(data['gender'] == 'Male'),'gender'] = \"M\"\n",
    "    data.loc[(data['education'] == 'Bachelors'), 'education'] = 'Bachelor'\n",
    "\n",
    "    data['customer_lifetime_value'] = data['customer_lifetime_value'].astype(str).str.replace('%', '')\n",
    "\n",
    "    data.loc[(data['vehicle_class'] == 'Sports Car') | (data['vehicle_class'] == 'Luxury SUV') | (data['vehicle_class'] == 'Luxury Car'), 'vehicle_class'] = 'Luxury'\n",
    "    \n",
    "    data['state'] = data['state'].astype(str).replace({'AZ': 'Arizona', 'Cali': 'California', 'WA': 'Washington'})\n",
    "\n"
   ]
  },
  {
   "cell_type": "code",
   "execution_count": 42,
   "id": "6f9a8557",
   "metadata": {},
   "outputs": [
    {
     "data": {
      "text/html": [
       "<div>\n",
       "<style scoped>\n",
       "    .dataframe tbody tr th:only-of-type {\n",
       "        vertical-align: middle;\n",
       "    }\n",
       "\n",
       "    .dataframe tbody tr th {\n",
       "        vertical-align: top;\n",
       "    }\n",
       "\n",
       "    .dataframe thead th {\n",
       "        text-align: right;\n",
       "    }\n",
       "</style>\n",
       "<table border=\"1\" class=\"dataframe\">\n",
       "  <thead>\n",
       "    <tr style=\"text-align: right;\">\n",
       "      <th></th>\n",
       "      <th>customer</th>\n",
       "      <th>state</th>\n",
       "      <th>gender</th>\n",
       "      <th>education</th>\n",
       "      <th>customer_lifetime_value</th>\n",
       "      <th>income</th>\n",
       "      <th>monthly_premium_auto</th>\n",
       "      <th>number_of_open_complaints</th>\n",
       "      <th>policy_type</th>\n",
       "      <th>vehicle_class</th>\n",
       "      <th>total_claim_amount</th>\n",
       "    </tr>\n",
       "  </thead>\n",
       "  <tbody>\n",
       "    <tr>\n",
       "      <th>0</th>\n",
       "      <td>RB50392</td>\n",
       "      <td>Washington</td>\n",
       "      <td>NaN</td>\n",
       "      <td>Master</td>\n",
       "      <td>nan</td>\n",
       "      <td>0.0</td>\n",
       "      <td>1000.0</td>\n",
       "      <td>1/0/00</td>\n",
       "      <td>Personal Auto</td>\n",
       "      <td>Four-Door Car</td>\n",
       "      <td>2.704934</td>\n",
       "    </tr>\n",
       "    <tr>\n",
       "      <th>1</th>\n",
       "      <td>QZ44356</td>\n",
       "      <td>Arizona</td>\n",
       "      <td>F</td>\n",
       "      <td>Bachelor</td>\n",
       "      <td>697953.59</td>\n",
       "      <td>0.0</td>\n",
       "      <td>94.0</td>\n",
       "      <td>1/0/00</td>\n",
       "      <td>Personal Auto</td>\n",
       "      <td>Four-Door Car</td>\n",
       "      <td>1131.464935</td>\n",
       "    </tr>\n",
       "    <tr>\n",
       "      <th>2</th>\n",
       "      <td>AI49188</td>\n",
       "      <td>Nevada</td>\n",
       "      <td>F</td>\n",
       "      <td>Bachelor</td>\n",
       "      <td>1288743.17</td>\n",
       "      <td>48767.0</td>\n",
       "      <td>108.0</td>\n",
       "      <td>1/0/00</td>\n",
       "      <td>Personal Auto</td>\n",
       "      <td>Two-Door Car</td>\n",
       "      <td>566.472247</td>\n",
       "    </tr>\n",
       "    <tr>\n",
       "      <th>3</th>\n",
       "      <td>WW63253</td>\n",
       "      <td>California</td>\n",
       "      <td>M</td>\n",
       "      <td>Bachelor</td>\n",
       "      <td>764586.18</td>\n",
       "      <td>0.0</td>\n",
       "      <td>106.0</td>\n",
       "      <td>1/0/00</td>\n",
       "      <td>Corporate Auto</td>\n",
       "      <td>SUV</td>\n",
       "      <td>529.881344</td>\n",
       "    </tr>\n",
       "    <tr>\n",
       "      <th>4</th>\n",
       "      <td>GA49547</td>\n",
       "      <td>Washington</td>\n",
       "      <td>M</td>\n",
       "      <td>High School or Below</td>\n",
       "      <td>536307.65</td>\n",
       "      <td>36357.0</td>\n",
       "      <td>68.0</td>\n",
       "      <td>1/0/00</td>\n",
       "      <td>Personal Auto</td>\n",
       "      <td>Four-Door Car</td>\n",
       "      <td>17.269323</td>\n",
       "    </tr>\n",
       "  </tbody>\n",
       "</table>\n",
       "</div>"
      ],
      "text/plain": [
       "  customer       state gender             education customer_lifetime_value  \\\n",
       "0  RB50392  Washington    NaN                Master                     nan   \n",
       "1  QZ44356     Arizona      F              Bachelor               697953.59   \n",
       "2  AI49188      Nevada      F              Bachelor              1288743.17   \n",
       "3  WW63253  California      M              Bachelor               764586.18   \n",
       "4  GA49547  Washington      M  High School or Below               536307.65   \n",
       "\n",
       "    income  monthly_premium_auto number_of_open_complaints     policy_type  \\\n",
       "0      0.0                1000.0                    1/0/00   Personal Auto   \n",
       "1      0.0                  94.0                    1/0/00   Personal Auto   \n",
       "2  48767.0                 108.0                    1/0/00   Personal Auto   \n",
       "3      0.0                 106.0                    1/0/00  Corporate Auto   \n",
       "4  36357.0                  68.0                    1/0/00   Personal Auto   \n",
       "\n",
       "   vehicle_class  total_claim_amount  \n",
       "0  Four-Door Car            2.704934  \n",
       "1  Four-Door Car         1131.464935  \n",
       "2   Two-Door Car          566.472247  \n",
       "3            SUV          529.881344  \n",
       "4  Four-Door Car           17.269323  "
      ]
     },
     "execution_count": 42,
     "metadata": {},
     "output_type": "execute_result"
    }
   ],
   "source": [
    "df1.head()"
   ]
  },
  {
   "cell_type": "code",
   "execution_count": 43,
   "id": "6f77256f",
   "metadata": {
    "scrolled": true
   },
   "outputs": [
    {
     "data": {
      "text/html": [
       "<div>\n",
       "<style scoped>\n",
       "    .dataframe tbody tr th:only-of-type {\n",
       "        vertical-align: middle;\n",
       "    }\n",
       "\n",
       "    .dataframe tbody tr th {\n",
       "        vertical-align: top;\n",
       "    }\n",
       "\n",
       "    .dataframe thead th {\n",
       "        text-align: right;\n",
       "    }\n",
       "</style>\n",
       "<table border=\"1\" class=\"dataframe\">\n",
       "  <thead>\n",
       "    <tr style=\"text-align: right;\">\n",
       "      <th></th>\n",
       "      <th>customer</th>\n",
       "      <th>state</th>\n",
       "      <th>gender</th>\n",
       "      <th>education</th>\n",
       "      <th>customer_lifetime_value</th>\n",
       "      <th>income</th>\n",
       "      <th>monthly_premium_auto</th>\n",
       "      <th>number_of_open_complaints</th>\n",
       "      <th>total_claim_amount</th>\n",
       "      <th>policy_type</th>\n",
       "      <th>vehicle_class</th>\n",
       "    </tr>\n",
       "  </thead>\n",
       "  <tbody>\n",
       "    <tr>\n",
       "      <th>0</th>\n",
       "      <td>GS98873</td>\n",
       "      <td>Arizona</td>\n",
       "      <td>F</td>\n",
       "      <td>Bachelor</td>\n",
       "      <td>323912.47</td>\n",
       "      <td>16061</td>\n",
       "      <td>88</td>\n",
       "      <td>1/0/00</td>\n",
       "      <td>633.6</td>\n",
       "      <td>Personal Auto</td>\n",
       "      <td>Four-Door Car</td>\n",
       "    </tr>\n",
       "    <tr>\n",
       "      <th>1</th>\n",
       "      <td>CW49887</td>\n",
       "      <td>California</td>\n",
       "      <td>F</td>\n",
       "      <td>Master</td>\n",
       "      <td>462680.11</td>\n",
       "      <td>79487</td>\n",
       "      <td>114</td>\n",
       "      <td>1/0/00</td>\n",
       "      <td>547.2</td>\n",
       "      <td>Special Auto</td>\n",
       "      <td>SUV</td>\n",
       "    </tr>\n",
       "    <tr>\n",
       "      <th>2</th>\n",
       "      <td>MY31220</td>\n",
       "      <td>California</td>\n",
       "      <td>F</td>\n",
       "      <td>College</td>\n",
       "      <td>899704.02</td>\n",
       "      <td>54230</td>\n",
       "      <td>112</td>\n",
       "      <td>1/0/00</td>\n",
       "      <td>537.6</td>\n",
       "      <td>Personal Auto</td>\n",
       "      <td>Two-Door Car</td>\n",
       "    </tr>\n",
       "    <tr>\n",
       "      <th>3</th>\n",
       "      <td>UH35128</td>\n",
       "      <td>Oregon</td>\n",
       "      <td>F</td>\n",
       "      <td>College</td>\n",
       "      <td>2580706.30</td>\n",
       "      <td>71210</td>\n",
       "      <td>214</td>\n",
       "      <td>1/1/00</td>\n",
       "      <td>1027.2</td>\n",
       "      <td>Personal Auto</td>\n",
       "      <td>Luxury</td>\n",
       "    </tr>\n",
       "    <tr>\n",
       "      <th>4</th>\n",
       "      <td>WH52799</td>\n",
       "      <td>Arizona</td>\n",
       "      <td>F</td>\n",
       "      <td>College</td>\n",
       "      <td>380812.21</td>\n",
       "      <td>94903</td>\n",
       "      <td>94</td>\n",
       "      <td>1/0/00</td>\n",
       "      <td>451.2</td>\n",
       "      <td>Corporate Auto</td>\n",
       "      <td>Two-Door Car</td>\n",
       "    </tr>\n",
       "  </tbody>\n",
       "</table>\n",
       "</div>"
      ],
      "text/plain": [
       "  customer       state gender education customer_lifetime_value  income  \\\n",
       "0  GS98873     Arizona      F  Bachelor               323912.47   16061   \n",
       "1  CW49887  California      F    Master               462680.11   79487   \n",
       "2  MY31220  California      F   College               899704.02   54230   \n",
       "3  UH35128      Oregon      F   College              2580706.30   71210   \n",
       "4  WH52799     Arizona      F   College               380812.21   94903   \n",
       "\n",
       "   monthly_premium_auto number_of_open_complaints  total_claim_amount  \\\n",
       "0                    88                    1/0/00               633.6   \n",
       "1                   114                    1/0/00               547.2   \n",
       "2                   112                    1/0/00               537.6   \n",
       "3                   214                    1/1/00              1027.2   \n",
       "4                    94                    1/0/00               451.2   \n",
       "\n",
       "      policy_type  vehicle_class  \n",
       "0   Personal Auto  Four-Door Car  \n",
       "1    Special Auto            SUV  \n",
       "2   Personal Auto   Two-Door Car  \n",
       "3   Personal Auto         Luxury  \n",
       "4  Corporate Auto   Two-Door Car  "
      ]
     },
     "execution_count": 43,
     "metadata": {},
     "output_type": "execute_result"
    }
   ],
   "source": [
    "df2.head()"
   ]
  },
  {
   "cell_type": "code",
   "execution_count": 44,
   "id": "c8773555",
   "metadata": {
    "scrolled": true
   },
   "outputs": [
    {
     "data": {
      "text/html": [
       "<div>\n",
       "<style scoped>\n",
       "    .dataframe tbody tr th:only-of-type {\n",
       "        vertical-align: middle;\n",
       "    }\n",
       "\n",
       "    .dataframe tbody tr th {\n",
       "        vertical-align: top;\n",
       "    }\n",
       "\n",
       "    .dataframe thead th {\n",
       "        text-align: right;\n",
       "    }\n",
       "</style>\n",
       "<table border=\"1\" class=\"dataframe\">\n",
       "  <thead>\n",
       "    <tr style=\"text-align: right;\">\n",
       "      <th></th>\n",
       "      <th>customer</th>\n",
       "      <th>state</th>\n",
       "      <th>customer_lifetime_value</th>\n",
       "      <th>education</th>\n",
       "      <th>gender</th>\n",
       "      <th>income</th>\n",
       "      <th>monthly_premium_auto</th>\n",
       "      <th>number_of_open_complaints</th>\n",
       "      <th>policy_type</th>\n",
       "      <th>total_claim_amount</th>\n",
       "      <th>vehicle_class</th>\n",
       "    </tr>\n",
       "  </thead>\n",
       "  <tbody>\n",
       "    <tr>\n",
       "      <th>0</th>\n",
       "      <td>SA25987</td>\n",
       "      <td>Washington</td>\n",
       "      <td>3479.137523</td>\n",
       "      <td>High School or Below</td>\n",
       "      <td>M</td>\n",
       "      <td>0</td>\n",
       "      <td>104</td>\n",
       "      <td>0</td>\n",
       "      <td>Personal Auto</td>\n",
       "      <td>499.200000</td>\n",
       "      <td>Two-Door Car</td>\n",
       "    </tr>\n",
       "    <tr>\n",
       "      <th>1</th>\n",
       "      <td>TB86706</td>\n",
       "      <td>Arizona</td>\n",
       "      <td>2502.637401</td>\n",
       "      <td>Master</td>\n",
       "      <td>M</td>\n",
       "      <td>0</td>\n",
       "      <td>66</td>\n",
       "      <td>0</td>\n",
       "      <td>Personal Auto</td>\n",
       "      <td>3.468912</td>\n",
       "      <td>Two-Door Car</td>\n",
       "    </tr>\n",
       "    <tr>\n",
       "      <th>2</th>\n",
       "      <td>ZL73902</td>\n",
       "      <td>Nevada</td>\n",
       "      <td>3265.156348</td>\n",
       "      <td>Bachelor</td>\n",
       "      <td>F</td>\n",
       "      <td>25820</td>\n",
       "      <td>82</td>\n",
       "      <td>0</td>\n",
       "      <td>Personal Auto</td>\n",
       "      <td>393.600000</td>\n",
       "      <td>Four-Door Car</td>\n",
       "    </tr>\n",
       "    <tr>\n",
       "      <th>3</th>\n",
       "      <td>KX23516</td>\n",
       "      <td>California</td>\n",
       "      <td>4455.843406</td>\n",
       "      <td>High School or Below</td>\n",
       "      <td>F</td>\n",
       "      <td>0</td>\n",
       "      <td>121</td>\n",
       "      <td>0</td>\n",
       "      <td>Personal Auto</td>\n",
       "      <td>699.615192</td>\n",
       "      <td>SUV</td>\n",
       "    </tr>\n",
       "    <tr>\n",
       "      <th>4</th>\n",
       "      <td>FN77294</td>\n",
       "      <td>California</td>\n",
       "      <td>7704.95848</td>\n",
       "      <td>High School or Below</td>\n",
       "      <td>M</td>\n",
       "      <td>30366</td>\n",
       "      <td>101</td>\n",
       "      <td>2</td>\n",
       "      <td>Personal Auto</td>\n",
       "      <td>484.800000</td>\n",
       "      <td>SUV</td>\n",
       "    </tr>\n",
       "  </tbody>\n",
       "</table>\n",
       "</div>"
      ],
      "text/plain": [
       "  customer       state customer_lifetime_value             education gender  \\\n",
       "0  SA25987  Washington             3479.137523  High School or Below      M   \n",
       "1  TB86706     Arizona             2502.637401                Master      M   \n",
       "2  ZL73902      Nevada             3265.156348              Bachelor      F   \n",
       "3  KX23516  California             4455.843406  High School or Below      F   \n",
       "4  FN77294  California              7704.95848  High School or Below      M   \n",
       "\n",
       "   income  monthly_premium_auto  number_of_open_complaints    policy_type  \\\n",
       "0       0                   104                          0  Personal Auto   \n",
       "1       0                    66                          0  Personal Auto   \n",
       "2   25820                    82                          0  Personal Auto   \n",
       "3       0                   121                          0  Personal Auto   \n",
       "4   30366                   101                          2  Personal Auto   \n",
       "\n",
       "   total_claim_amount  vehicle_class  \n",
       "0          499.200000   Two-Door Car  \n",
       "1            3.468912   Two-Door Car  \n",
       "2          393.600000  Four-Door Car  \n",
       "3          699.615192            SUV  \n",
       "4          484.800000            SUV  "
      ]
     },
     "execution_count": 44,
     "metadata": {},
     "output_type": "execute_result"
    }
   ],
   "source": [
    "df3.head()"
   ]
  },
  {
   "cell_type": "code",
   "execution_count": 45,
   "id": "df74143e",
   "metadata": {
    "scrolled": true
   },
   "outputs": [
    {
     "data": {
      "text/html": [
       "<div>\n",
       "<style scoped>\n",
       "    .dataframe tbody tr th:only-of-type {\n",
       "        vertical-align: middle;\n",
       "    }\n",
       "\n",
       "    .dataframe tbody tr th {\n",
       "        vertical-align: top;\n",
       "    }\n",
       "\n",
       "    .dataframe thead th {\n",
       "        text-align: right;\n",
       "    }\n",
       "</style>\n",
       "<table border=\"1\" class=\"dataframe\">\n",
       "  <thead>\n",
       "    <tr style=\"text-align: right;\">\n",
       "      <th></th>\n",
       "      <th>customer</th>\n",
       "      <th>state</th>\n",
       "      <th>gender</th>\n",
       "      <th>education</th>\n",
       "      <th>customer_lifetime_value</th>\n",
       "      <th>income</th>\n",
       "      <th>monthly_premium_auto</th>\n",
       "      <th>number_of_open_complaints</th>\n",
       "      <th>policy_type</th>\n",
       "      <th>vehicle_class</th>\n",
       "      <th>total_claim_amount</th>\n",
       "    </tr>\n",
       "  </thead>\n",
       "  <tbody>\n",
       "    <tr>\n",
       "      <th>0</th>\n",
       "      <td>RB50392</td>\n",
       "      <td>Washington</td>\n",
       "      <td>NaN</td>\n",
       "      <td>Master</td>\n",
       "      <td>nan</td>\n",
       "      <td>0.0</td>\n",
       "      <td>1000.0</td>\n",
       "      <td>1/0/00</td>\n",
       "      <td>Personal Auto</td>\n",
       "      <td>Four-Door Car</td>\n",
       "      <td>2.704934</td>\n",
       "    </tr>\n",
       "    <tr>\n",
       "      <th>1</th>\n",
       "      <td>QZ44356</td>\n",
       "      <td>Arizona</td>\n",
       "      <td>F</td>\n",
       "      <td>Bachelor</td>\n",
       "      <td>697953.59</td>\n",
       "      <td>0.0</td>\n",
       "      <td>94.0</td>\n",
       "      <td>1/0/00</td>\n",
       "      <td>Personal Auto</td>\n",
       "      <td>Four-Door Car</td>\n",
       "      <td>1131.464935</td>\n",
       "    </tr>\n",
       "    <tr>\n",
       "      <th>2</th>\n",
       "      <td>AI49188</td>\n",
       "      <td>Nevada</td>\n",
       "      <td>F</td>\n",
       "      <td>Bachelor</td>\n",
       "      <td>1288743.17</td>\n",
       "      <td>48767.0</td>\n",
       "      <td>108.0</td>\n",
       "      <td>1/0/00</td>\n",
       "      <td>Personal Auto</td>\n",
       "      <td>Two-Door Car</td>\n",
       "      <td>566.472247</td>\n",
       "    </tr>\n",
       "    <tr>\n",
       "      <th>3</th>\n",
       "      <td>WW63253</td>\n",
       "      <td>California</td>\n",
       "      <td>M</td>\n",
       "      <td>Bachelor</td>\n",
       "      <td>764586.18</td>\n",
       "      <td>0.0</td>\n",
       "      <td>106.0</td>\n",
       "      <td>1/0/00</td>\n",
       "      <td>Corporate Auto</td>\n",
       "      <td>SUV</td>\n",
       "      <td>529.881344</td>\n",
       "    </tr>\n",
       "    <tr>\n",
       "      <th>4</th>\n",
       "      <td>GA49547</td>\n",
       "      <td>Washington</td>\n",
       "      <td>M</td>\n",
       "      <td>High School or Below</td>\n",
       "      <td>536307.65</td>\n",
       "      <td>36357.0</td>\n",
       "      <td>68.0</td>\n",
       "      <td>1/0/00</td>\n",
       "      <td>Personal Auto</td>\n",
       "      <td>Four-Door Car</td>\n",
       "      <td>17.269323</td>\n",
       "    </tr>\n",
       "  </tbody>\n",
       "</table>\n",
       "</div>"
      ],
      "text/plain": [
       "  customer       state gender             education customer_lifetime_value  \\\n",
       "0  RB50392  Washington    NaN                Master                     nan   \n",
       "1  QZ44356     Arizona      F              Bachelor               697953.59   \n",
       "2  AI49188      Nevada      F              Bachelor              1288743.17   \n",
       "3  WW63253  California      M              Bachelor               764586.18   \n",
       "4  GA49547  Washington      M  High School or Below               536307.65   \n",
       "\n",
       "    income  monthly_premium_auto number_of_open_complaints     policy_type  \\\n",
       "0      0.0                1000.0                    1/0/00   Personal Auto   \n",
       "1      0.0                  94.0                    1/0/00   Personal Auto   \n",
       "2  48767.0                 108.0                    1/0/00   Personal Auto   \n",
       "3      0.0                 106.0                    1/0/00  Corporate Auto   \n",
       "4  36357.0                  68.0                    1/0/00   Personal Auto   \n",
       "\n",
       "   vehicle_class  total_claim_amount  \n",
       "0  Four-Door Car            2.704934  \n",
       "1  Four-Door Car         1131.464935  \n",
       "2   Two-Door Car          566.472247  \n",
       "3            SUV          529.881344  \n",
       "4  Four-Door Car           17.269323  "
      ]
     },
     "execution_count": 45,
     "metadata": {},
     "output_type": "execute_result"
    }
   ],
   "source": [
    "df = pd.concat([df1, df2, df3], axis=0)\n",
    "df.head()"
   ]
  },
  {
   "cell_type": "code",
   "execution_count": 46,
   "id": "77b1a631",
   "metadata": {},
   "outputs": [
    {
     "data": {
      "text/plain": [
       "(12074, 11)"
      ]
     },
     "execution_count": 46,
     "metadata": {},
     "output_type": "execute_result"
    }
   ],
   "source": [
    "df.shape"
   ]
  },
  {
   "cell_type": "code",
   "execution_count": 11,
   "id": "980c2a02",
   "metadata": {},
   "outputs": [
    {
     "name": "stdout",
     "output_type": "stream",
     "text": [
      "['Arizona' 'California' 'Nevada' 'Oregon' 'Washington' 'nan']\n"
     ]
    }
   ],
   "source": [
    "import numpy as np\n",
    "print(np.unique(df['state'].astype(str)))\n"
   ]
  },
  {
   "cell_type": "code",
   "execution_count": 12,
   "id": "8024cdde",
   "metadata": {
    "scrolled": true
   },
   "outputs": [
    {
     "name": "stdout",
     "output_type": "stream",
     "text": [
      "state\n",
      "California    3152\n",
      "nan           2937\n",
      "Oregon        2601\n",
      "Arizona       1704\n",
      "Nevada         882\n",
      "Washington     798\n",
      "Name: count, dtype: int64\n"
     ]
    }
   ],
   "source": [
    "print (df['state'].value_counts())"
   ]
  },
  {
   "cell_type": "code",
   "execution_count": 48,
   "id": "da4b0fd3",
   "metadata": {
    "scrolled": true
   },
   "outputs": [
    {
     "name": "stdout",
     "output_type": "stream",
     "text": [
      "customer 9056\n",
      "state 6\n",
      "gender 2\n",
      "education 5\n",
      "customer_lifetime_value 8212\n",
      "income 5655\n",
      "monthly_premium_auto 209\n",
      "number_of_open_complaints 12\n",
      "policy_type 3\n",
      "vehicle_class 4\n",
      "total_claim_amount 5070\n"
     ]
    }
   ],
   "source": [
    "for column in df:\n",
    "    print (f'{column} {df[column].nunique()}')"
   ]
  },
  {
   "cell_type": "code",
   "execution_count": 14,
   "id": "b1c78482",
   "metadata": {},
   "outputs": [],
   "source": [
    "df['number_of_open_complaints'] = df['number_of_open_complaints'].str.split('/').str[1]"
   ]
  },
  {
   "cell_type": "code",
   "execution_count": null,
   "id": "53d4dfee",
   "metadata": {},
   "outputs": [],
   "source": []
  },
  {
   "cell_type": "code",
   "execution_count": 15,
   "id": "e0378432",
   "metadata": {},
   "outputs": [
    {
     "name": "stdout",
     "output_type": "stream",
     "text": [
      "['RB50392' 'QZ44356' 'AI49188' ... 'TD14365' 'UP19263' 'Y167826']\n",
      "['Washington' 'Arizona' 'Nevada' 'California' 'Oregon' 'nan']\n",
      "[nan 'F' 'M']\n",
      "['Master' 'Bachelor' 'High School or Below' 'College' 'Doctor' nan]\n",
      "['nan' '697953.59' '1288743.17' ... '8163.890428' '7524.442436'\n",
      " '2611.836866']\n",
      "[    0. 48767. 36357. ... 66367. 71941. 21941.]\n",
      "[ 1000.    94.   108.   106.    68.    69.    67.   101.    71.    93.\n",
      "   110.    70.    64.    72.    74.    79.    73.    61.   111.    80.\n",
      "    63.   237.    65.   130.    62.   117.    91.    90.    66.    99.\n",
      "   103. 35354.   172.    92.   104.   113.   124.   105.   100.   112.\n",
      "    97.    95.   102.    96.   186.    77.    76.   119.    87.   109.\n",
      "   107.    88.    85.  6464.   133.    86.    78.    89.   192.   118.\n",
      "   140.   127.   126.    82.   115.   217.   114.   138.    81.   255.\n",
      "   150.   123.   116.   190.    98.   159.    84.    83.   152.   136.\n",
      "   245.   135.  1005.   225.   132.   153.   121.   139.   154.   161.\n",
      "   156.   171.   244.   183.   176.   230.   129.   177.   181.   196.\n",
      "   131.   276.   253.   137.   180.   203.   147.   165.   198.   125.\n",
      "   193.   128.   271.   142. 10202.   206.   182.   189.   160.   295.\n",
      "   210.   134. 35353.   239.   188.   256.   173.   285.   148.   141.\n",
      "   197.   199.    nan   214.   175.   167.   194.   164.   222.   215.\n",
      "   283.   169.   248.   223.   151.   213.   145.   185.   287.   297.\n",
      "  5353.   201.   149.   146.  7575.   235.   268.   211.   187.   168.\n",
      "   122.   143.   155.   166.   212.   249.   240.   191.   195.   216.\n",
      "   144.   179.   232.   158.   207.   184.   238.   229.   220.   178.\n",
      "   204.   281.   170.   234.   218.   275.   209.   261.   157.   205.\n",
      "   228.   242.   284.   231.   208.   296.   202.   162.   274.   219.\n",
      "   247.   290.   226.   163.   298.   266.   254.   252.   174.   286.]\n",
      "['0' '2' '1' '3' '5' '4' nan]\n",
      "['Personal Auto' 'Corporate Auto' 'Special Auto' nan]\n",
      "['Four-Door Car' 'Two-Door Car' 'SUV' 'Luxury' nan]\n",
      "[   2.704934 1131.464935  566.472247 ...  541.282007  198.234764\n",
      "  790.784983]\n"
     ]
    }
   ],
   "source": [
    "for column in df:\n",
    "    print (df[column].unique())"
   ]
  },
  {
   "cell_type": "code",
   "execution_count": 16,
   "id": "7e74ee97",
   "metadata": {},
   "outputs": [
    {
     "name": "stdout",
     "output_type": "stream",
     "text": [
      "Index(['income', 'monthly_premium_auto', 'total_claim_amount'], dtype='object')\n"
     ]
    }
   ],
   "source": [
    "for column in df:\n",
    "    non_matching_columns = df.columns[df.dtypes != df.dtypes[0]]\n",
    "print (non_matching_columns)"
   ]
  },
  {
   "cell_type": "code",
   "execution_count": 17,
   "id": "7a1444be",
   "metadata": {
    "scrolled": false
   },
   "outputs": [
    {
     "data": {
      "text/plain": [
       "customer                      object\n",
       "state                         object\n",
       "gender                        object\n",
       "education                     object\n",
       "customer_lifetime_value       object\n",
       "income                       float64\n",
       "monthly_premium_auto         float64\n",
       "number_of_open_complaints     object\n",
       "policy_type                   object\n",
       "vehicle_class                 object\n",
       "total_claim_amount           float64\n",
       "dtype: object"
      ]
     },
     "execution_count": 17,
     "metadata": {},
     "output_type": "execute_result"
    }
   ],
   "source": [
    "df.dtypes"
   ]
  },
  {
   "cell_type": "code",
   "execution_count": 18,
   "id": "44d888ba",
   "metadata": {},
   "outputs": [],
   "source": [
    "df['customer_lifetime_value'] = df['customer_lifetime_value'].astype(float)\n",
    "df['number_of_open_complaints'] = df['number_of_open_complaints'].astype(float)\n"
   ]
  },
  {
   "cell_type": "code",
   "execution_count": 19,
   "id": "08df3390",
   "metadata": {},
   "outputs": [
    {
     "data": {
      "text/plain": [
       "customer                      object\n",
       "state                         object\n",
       "gender                        object\n",
       "education                     object\n",
       "customer_lifetime_value      float64\n",
       "income                       float64\n",
       "monthly_premium_auto         float64\n",
       "number_of_open_complaints    float64\n",
       "policy_type                   object\n",
       "vehicle_class                 object\n",
       "total_claim_amount           float64\n",
       "dtype: object"
      ]
     },
     "execution_count": 19,
     "metadata": {},
     "output_type": "execute_result"
    }
   ],
   "source": [
    "df.dtypes"
   ]
  },
  {
   "cell_type": "code",
   "execution_count": 20,
   "id": "aa38794a",
   "metadata": {},
   "outputs": [
    {
     "name": "stdout",
     "output_type": "stream",
     "text": [
      "customer\n",
      "QD28391    2\n",
      "YB66933    2\n",
      "LY14355    2\n",
      "FX36546    2\n",
      "OT85112    2\n",
      "          ..\n",
      "KG49115    1\n",
      "NT78297    1\n",
      "TN66124    1\n",
      "JV99867    1\n",
      "Y167826    1\n",
      "Name: count, Length: 9056, dtype: int64\n",
      "state\n",
      "California    3152\n",
      "nan           2937\n",
      "Oregon        2601\n",
      "Arizona       1704\n",
      "Nevada         882\n",
      "Washington     798\n",
      "Name: count, dtype: int64\n",
      "gender\n",
      "F    4607\n",
      "M    4408\n",
      "Name: count, dtype: int64\n",
      "education\n",
      "Bachelor                2743\n",
      "College                 2682\n",
      "High School or Below    2616\n",
      "Master                   752\n",
      "Doctor                   344\n",
      "Name: count, dtype: int64\n",
      "customer_lifetime_value\n",
      "16468.220790    6\n",
      "5246.278375     6\n",
      "22332.439460    6\n",
      "4270.034394     6\n",
      "5107.163002     6\n",
      "               ..\n",
      "7477.176362     1\n",
      "15700.284360    1\n",
      "2968.077571     1\n",
      "5452.171237     1\n",
      "2611.836866     1\n",
      "Name: count, Length: 8211, dtype: int64\n",
      "income\n",
      "0.0        2294\n",
      "95697.0      13\n",
      "26876.0       8\n",
      "61108.0       8\n",
      "10621.0       8\n",
      "           ... \n",
      "26599.0       1\n",
      "75774.0       1\n",
      "85412.0       1\n",
      "42968.0       1\n",
      "21941.0       1\n",
      "Name: count, Length: 5655, dtype: int64\n",
      "monthly_premium_auto\n",
      "65.0     351\n",
      "66.0     312\n",
      "71.0     304\n",
      "73.0     303\n",
      "63.0     290\n",
      "        ... \n",
      "178.0      1\n",
      "204.0      1\n",
      "281.0      1\n",
      "275.0      1\n",
      "286.0      1\n",
      "Name: count, Length: 209, dtype: int64\n",
      "number_of_open_complaints\n",
      "0.0    1626\n",
      "1.0     247\n",
      "2.0      93\n",
      "3.0      60\n",
      "4.0      29\n",
      "5.0      12\n",
      "Name: count, dtype: int64\n",
      "policy_type\n",
      "Personal Auto     6792\n",
      "Corporate Auto    1965\n",
      "Special Auto       380\n",
      "Name: count, dtype: int64\n",
      "vehicle_class\n",
      "Four-Door Car    4641\n",
      "Two-Door Car     1896\n",
      "SUV              1774\n",
      "Luxury            826\n",
      "Name: count, dtype: int64\n",
      "total_claim_amount\n",
      "316.800000    119\n",
      "292.800000    111\n",
      "312.000000    108\n",
      "350.400000    107\n",
      "321.600000    104\n",
      "             ... \n",
      "434.757900      1\n",
      "389.636991      1\n",
      "114.743547      1\n",
      "733.737214      1\n",
      "790.784983      1\n",
      "Name: count, Length: 5070, dtype: int64\n"
     ]
    }
   ],
   "source": [
    "for column in df:\n",
    "    print (df[column].value_counts())"
   ]
  },
  {
   "cell_type": "code",
   "execution_count": 21,
   "id": "567ec07d",
   "metadata": {},
   "outputs": [
    {
     "name": "stdout",
     "output_type": "stream",
     "text": [
      "float64\n",
      "float64\n",
      "float64\n"
     ]
    }
   ],
   "source": [
    "for column in df:\n",
    "    if column in non_matching_columns:\n",
    "        print(df[column].dtypes)"
   ]
  },
  {
   "cell_type": "code",
   "execution_count": 22,
   "id": "3fc8f5fe",
   "metadata": {
    "scrolled": true
   },
   "outputs": [
    {
     "name": "stdout",
     "output_type": "stream",
     "text": [
      "income , [    0. 48767. 36357. ... 66367. 71941. 21941.]\n",
      "income\n",
      "0.0        2294\n",
      "95697.0      13\n",
      "26876.0       8\n",
      "61108.0       8\n",
      "10621.0       8\n",
      "           ... \n",
      "26599.0       1\n",
      "75774.0       1\n",
      "85412.0       1\n",
      "42968.0       1\n",
      "21941.0       1\n",
      "Name: count, Length: 5655, dtype: int64\n",
      "monthly_premium_auto , [ 1000.    94.   108.   106.    68.    69.    67.   101.    71.    93.\n",
      "   110.    70.    64.    72.    74.    79.    73.    61.   111.    80.\n",
      "    63.   237.    65.   130.    62.   117.    91.    90.    66.    99.\n",
      "   103. 35354.   172.    92.   104.   113.   124.   105.   100.   112.\n",
      "    97.    95.   102.    96.   186.    77.    76.   119.    87.   109.\n",
      "   107.    88.    85.  6464.   133.    86.    78.    89.   192.   118.\n",
      "   140.   127.   126.    82.   115.   217.   114.   138.    81.   255.\n",
      "   150.   123.   116.   190.    98.   159.    84.    83.   152.   136.\n",
      "   245.   135.  1005.   225.   132.   153.   121.   139.   154.   161.\n",
      "   156.   171.   244.   183.   176.   230.   129.   177.   181.   196.\n",
      "   131.   276.   253.   137.   180.   203.   147.   165.   198.   125.\n",
      "   193.   128.   271.   142. 10202.   206.   182.   189.   160.   295.\n",
      "   210.   134. 35353.   239.   188.   256.   173.   285.   148.   141.\n",
      "   197.   199.    nan   214.   175.   167.   194.   164.   222.   215.\n",
      "   283.   169.   248.   223.   151.   213.   145.   185.   287.   297.\n",
      "  5353.   201.   149.   146.  7575.   235.   268.   211.   187.   168.\n",
      "   122.   143.   155.   166.   212.   249.   240.   191.   195.   216.\n",
      "   144.   179.   232.   158.   207.   184.   238.   229.   220.   178.\n",
      "   204.   281.   170.   234.   218.   275.   209.   261.   157.   205.\n",
      "   228.   242.   284.   231.   208.   296.   202.   162.   274.   219.\n",
      "   247.   290.   226.   163.   298.   266.   254.   252.   174.   286.]\n",
      "monthly_premium_auto\n",
      "65.0     351\n",
      "66.0     312\n",
      "71.0     304\n",
      "73.0     303\n",
      "63.0     290\n",
      "        ... \n",
      "178.0      1\n",
      "204.0      1\n",
      "281.0      1\n",
      "275.0      1\n",
      "286.0      1\n",
      "Name: count, Length: 209, dtype: int64\n",
      "total_claim_amount , [   2.704934 1131.464935  566.472247 ...  541.282007  198.234764\n",
      "  790.784983]\n",
      "total_claim_amount\n",
      "316.800000    119\n",
      "292.800000    111\n",
      "312.000000    108\n",
      "350.400000    107\n",
      "321.600000    104\n",
      "             ... \n",
      "434.757900      1\n",
      "389.636991      1\n",
      "114.743547      1\n",
      "733.737214      1\n",
      "790.784983      1\n",
      "Name: count, Length: 5070, dtype: int64\n"
     ]
    }
   ],
   "source": [
    "for column in df:\n",
    "    if column in non_matching_columns:\n",
    "        print(f\"{column} , {df[column].unique()}\")\n",
    "        print (df[column].value_counts())"
   ]
  },
  {
   "cell_type": "code",
   "execution_count": 23,
   "id": "70f9a266",
   "metadata": {
    "scrolled": true
   },
   "outputs": [
    {
     "name": "stdout",
     "output_type": "stream",
     "text": [
      "Index(['customer', 'gender', 'education', 'customer_lifetime_value', 'income',\n",
      "       'monthly_premium_auto', 'number_of_open_complaints', 'policy_type',\n",
      "       'vehicle_class', 'total_claim_amount'],\n",
      "      dtype='object')\n",
      "customer                      2937\n",
      "state                            0\n",
      "gender                        3059\n",
      "education                     2937\n",
      "customer_lifetime_value       2944\n",
      "income                        2937\n",
      "monthly_premium_auto          2937\n",
      "number_of_open_complaints    10007\n",
      "policy_type                   2937\n",
      "vehicle_class                 2937\n",
      "total_claim_amount            2937\n",
      "dtype: int64\n"
     ]
    }
   ],
   "source": [
    "columns_with_null = df.columns[df.isnull().any()]\n",
    "print(columns_with_null)\n",
    "for column in columns_with_null:\n",
    "    null_values_column = df[column].isnull().sum()\n",
    "   \n",
    "\n",
    "null_counts = df.isnull().sum()\n",
    "print(null_counts)"
   ]
  },
  {
   "cell_type": "code",
   "execution_count": 24,
   "id": "7fa2c34e",
   "metadata": {},
   "outputs": [
    {
     "name": "stdout",
     "output_type": "stream",
     "text": [
      "Index(['customer_lifetime_value', 'income', 'monthly_premium_auto',\n",
      "       'number_of_open_complaints', 'total_claim_amount'],\n",
      "      dtype='object')\n"
     ]
    }
   ],
   "source": [
    "import numpy as np\n",
    "numeric_columns = df.select_dtypes(include = np.number).columns\n",
    "print (numeric_columns)\n",
    "\n",
    "for column in df:\n",
    "    if column in numeric_columns:\n",
    "        median_val = df[column].median()\n",
    "        df[column].fillna(median_val, inplace=True)\n",
    "    else:\n",
    "        df[column].fillna(\"na\", inplace=True)"
   ]
  },
  {
   "cell_type": "code",
   "execution_count": 25,
   "id": "9cec249d",
   "metadata": {},
   "outputs": [
    {
     "name": "stdout",
     "output_type": "stream",
     "text": [
      "Index([], dtype='object')\n",
      "customer                     0\n",
      "state                        0\n",
      "gender                       0\n",
      "education                    0\n",
      "customer_lifetime_value      0\n",
      "income                       0\n",
      "monthly_premium_auto         0\n",
      "number_of_open_complaints    0\n",
      "policy_type                  0\n",
      "vehicle_class                0\n",
      "total_claim_amount           0\n",
      "dtype: int64\n"
     ]
    }
   ],
   "source": [
    "columns_with_null = df.columns[df.isnull().any()]\n",
    "print(columns_with_null)\n",
    "for column in columns_with_null:\n",
    "    null_values_column = df[column].isnull().sum()\n",
    "   \n",
    "\n",
    "null_counts = df.isnull().sum()\n",
    "print(null_counts)"
   ]
  },
  {
   "cell_type": "code",
   "execution_count": 26,
   "id": "eff9bb15",
   "metadata": {},
   "outputs": [
    {
     "name": "stdout",
     "output_type": "stream",
     "text": [
      "duplicates in customer 3017 \n",
      "duplicates in state 12068 \n",
      "duplicates in gender 12071 \n",
      "duplicates in education 12068 \n",
      "duplicates in customer_lifetime_value 3862 \n",
      "duplicates in income 6419 \n",
      "duplicates in monthly_premium_auto 11865 \n",
      "duplicates in number_of_open_complaints 12068 \n",
      "duplicates in policy_type 12070 \n",
      "duplicates in vehicle_class 12069 \n",
      "duplicates in total_claim_amount 7004 \n"
     ]
    }
   ],
   "source": [
    "for column in df:\n",
    "    duplicates = df[column].duplicated().sum()\n",
    "    print(f\"duplicates in {column} {duplicates} \")"
   ]
  },
  {
   "cell_type": "code",
   "execution_count": 27,
   "id": "8bf279cf",
   "metadata": {},
   "outputs": [],
   "source": [
    "df = df.drop_duplicates(subset=['customer'])"
   ]
  },
  {
   "cell_type": "code",
   "execution_count": 28,
   "id": "4489b2fc",
   "metadata": {
    "scrolled": true
   },
   "outputs": [
    {
     "name": "stdout",
     "output_type": "stream",
     "text": [
      "duplicates in customer 0 \n",
      "duplicates in state 9051 \n",
      "duplicates in gender 9054 \n",
      "duplicates in education 9051 \n",
      "duplicates in customer_lifetime_value 911 \n",
      "duplicates in income 3402 \n",
      "duplicates in monthly_premium_auto 8848 \n",
      "duplicates in number_of_open_complaints 9051 \n",
      "duplicates in policy_type 9053 \n",
      "duplicates in vehicle_class 9052 \n",
      "duplicates in total_claim_amount 3987 \n"
     ]
    }
   ],
   "source": [
    "for column in df:\n",
    "    duplicates = df[column].duplicated().sum()\n",
    "    print(f\"duplicates in {column} {duplicates} \")"
   ]
  },
  {
   "cell_type": "code",
   "execution_count": 29,
   "id": "5fe84353",
   "metadata": {},
   "outputs": [
    {
     "data": {
      "text/html": [
       "<div>\n",
       "<style scoped>\n",
       "    .dataframe tbody tr th:only-of-type {\n",
       "        vertical-align: middle;\n",
       "    }\n",
       "\n",
       "    .dataframe tbody tr th {\n",
       "        vertical-align: top;\n",
       "    }\n",
       "\n",
       "    .dataframe thead th {\n",
       "        text-align: right;\n",
       "    }\n",
       "</style>\n",
       "<table border=\"1\" class=\"dataframe\">\n",
       "  <thead>\n",
       "    <tr style=\"text-align: right;\">\n",
       "      <th></th>\n",
       "      <th>customer</th>\n",
       "      <th>state</th>\n",
       "      <th>gender</th>\n",
       "      <th>education</th>\n",
       "      <th>customer_lifetime_value</th>\n",
       "      <th>income</th>\n",
       "      <th>monthly_premium_auto</th>\n",
       "      <th>number_of_open_complaints</th>\n",
       "      <th>policy_type</th>\n",
       "      <th>vehicle_class</th>\n",
       "      <th>total_claim_amount</th>\n",
       "    </tr>\n",
       "  </thead>\n",
       "  <tbody>\n",
       "    <tr>\n",
       "      <th>9052</th>\n",
       "      <td>LA72316</td>\n",
       "      <td>California</td>\n",
       "      <td>M</td>\n",
       "      <td>Bachelor</td>\n",
       "      <td>23405.987980</td>\n",
       "      <td>71941.0</td>\n",
       "      <td>73.0</td>\n",
       "      <td>0.0</td>\n",
       "      <td>Personal Auto</td>\n",
       "      <td>Four-Door Car</td>\n",
       "      <td>198.234764</td>\n",
       "    </tr>\n",
       "    <tr>\n",
       "      <th>9053</th>\n",
       "      <td>PK87824</td>\n",
       "      <td>California</td>\n",
       "      <td>F</td>\n",
       "      <td>College</td>\n",
       "      <td>3096.511217</td>\n",
       "      <td>21604.0</td>\n",
       "      <td>79.0</td>\n",
       "      <td>0.0</td>\n",
       "      <td>Corporate Auto</td>\n",
       "      <td>Four-Door Car</td>\n",
       "      <td>379.200000</td>\n",
       "    </tr>\n",
       "    <tr>\n",
       "      <th>9054</th>\n",
       "      <td>TD14365</td>\n",
       "      <td>California</td>\n",
       "      <td>M</td>\n",
       "      <td>Bachelor</td>\n",
       "      <td>8163.890428</td>\n",
       "      <td>0.0</td>\n",
       "      <td>85.0</td>\n",
       "      <td>0.0</td>\n",
       "      <td>Corporate Auto</td>\n",
       "      <td>Four-Door Car</td>\n",
       "      <td>790.784983</td>\n",
       "    </tr>\n",
       "    <tr>\n",
       "      <th>9055</th>\n",
       "      <td>UP19263</td>\n",
       "      <td>California</td>\n",
       "      <td>M</td>\n",
       "      <td>College</td>\n",
       "      <td>7524.442436</td>\n",
       "      <td>21941.0</td>\n",
       "      <td>96.0</td>\n",
       "      <td>0.0</td>\n",
       "      <td>Personal Auto</td>\n",
       "      <td>Four-Door Car</td>\n",
       "      <td>691.200000</td>\n",
       "    </tr>\n",
       "    <tr>\n",
       "      <th>9056</th>\n",
       "      <td>Y167826</td>\n",
       "      <td>California</td>\n",
       "      <td>M</td>\n",
       "      <td>College</td>\n",
       "      <td>2611.836866</td>\n",
       "      <td>0.0</td>\n",
       "      <td>77.0</td>\n",
       "      <td>0.0</td>\n",
       "      <td>Corporate Auto</td>\n",
       "      <td>Two-Door Car</td>\n",
       "      <td>369.600000</td>\n",
       "    </tr>\n",
       "  </tbody>\n",
       "</table>\n",
       "</div>"
      ],
      "text/plain": [
       "     customer       state gender education  customer_lifetime_value   income  \\\n",
       "9052  LA72316  California      M  Bachelor             23405.987980  71941.0   \n",
       "9053  PK87824  California      F   College              3096.511217  21604.0   \n",
       "9054  TD14365  California      M  Bachelor              8163.890428      0.0   \n",
       "9055  UP19263  California      M   College              7524.442436  21941.0   \n",
       "9056  Y167826  California      M   College              2611.836866      0.0   \n",
       "\n",
       "      monthly_premium_auto  number_of_open_complaints     policy_type  \\\n",
       "9052                  73.0                        0.0   Personal Auto   \n",
       "9053                  79.0                        0.0  Corporate Auto   \n",
       "9054                  85.0                        0.0  Corporate Auto   \n",
       "9055                  96.0                        0.0   Personal Auto   \n",
       "9056                  77.0                        0.0  Corporate Auto   \n",
       "\n",
       "      vehicle_class  total_claim_amount  \n",
       "9052  Four-Door Car          198.234764  \n",
       "9053  Four-Door Car          379.200000  \n",
       "9054  Four-Door Car          790.784983  \n",
       "9055  Four-Door Car          691.200000  \n",
       "9056   Two-Door Car          369.600000  "
      ]
     },
     "execution_count": 29,
     "metadata": {},
     "output_type": "execute_result"
    }
   ],
   "source": [
    "df.reset_index(drop=True, inplace=True)\n",
    "df.tail()"
   ]
  },
  {
   "cell_type": "markdown",
   "id": "31b8a9e7-7db9-4604-991b-ef6771603e57",
   "metadata": {
    "id": "31b8a9e7-7db9-4604-991b-ef6771603e57"
   },
   "source": [
    "# Challenge 2: Structuring Data"
   ]
  },
  {
   "cell_type": "markdown",
   "id": "a877fd6d-7a0c-46d2-9657-f25036e4ca4b",
   "metadata": {
    "id": "a877fd6d-7a0c-46d2-9657-f25036e4ca4b"
   },
   "source": [
    "In this challenge, we will continue to work with customer data from an insurance company, but we will use a dataset with more columns, called marketing_customer_analysis.csv, which can be found at the following link:\n",
    "\n",
    "https://raw.githubusercontent.com/data-bootcamp-v4/data/main/marketing_customer_analysis_clean.csv\n",
    "\n",
    "This dataset contains information such as customer demographics, policy details, vehicle information, and the customer's response to the last marketing campaign. Our goal is to explore and analyze this data by performing data cleaning, formatting, and structuring."
   ]
  },
  {
   "cell_type": "code",
   "execution_count": 56,
   "id": "aa10d9b0-1c27-4d3f-a8e4-db6ab73bfd26",
   "metadata": {
    "id": "aa10d9b0-1c27-4d3f-a8e4-db6ab73bfd26"
   },
   "outputs": [
    {
     "data": {
      "text/plain": [
       "(10910, 27)"
      ]
     },
     "execution_count": 56,
     "metadata": {},
     "output_type": "execute_result"
    }
   ],
   "source": [
    "df4 = pd.read_csv('https://raw.githubusercontent.com/data-bootcamp-v4/data/main/marketing_customer_analysis_clean.csv')\n",
    "df4.shape"
   ]
  },
  {
   "cell_type": "code",
   "execution_count": 58,
   "id": "998455fe",
   "metadata": {},
   "outputs": [
    {
     "data": {
      "text/html": [
       "<div>\n",
       "<style scoped>\n",
       "    .dataframe tbody tr th:only-of-type {\n",
       "        vertical-align: middle;\n",
       "    }\n",
       "\n",
       "    .dataframe tbody tr th {\n",
       "        vertical-align: top;\n",
       "    }\n",
       "\n",
       "    .dataframe thead th {\n",
       "        text-align: right;\n",
       "    }\n",
       "</style>\n",
       "<table border=\"1\" class=\"dataframe\">\n",
       "  <thead>\n",
       "    <tr style=\"text-align: right;\">\n",
       "      <th></th>\n",
       "      <th>unnamed:_0</th>\n",
       "      <th>customer</th>\n",
       "      <th>state</th>\n",
       "      <th>customer_lifetime_value</th>\n",
       "      <th>response</th>\n",
       "      <th>coverage</th>\n",
       "      <th>education</th>\n",
       "      <th>effective_to_date</th>\n",
       "      <th>employmentstatus</th>\n",
       "      <th>gender</th>\n",
       "      <th>...</th>\n",
       "      <th>number_of_policies</th>\n",
       "      <th>policy_type</th>\n",
       "      <th>policy</th>\n",
       "      <th>renew_offer_type</th>\n",
       "      <th>sales_channel</th>\n",
       "      <th>total_claim_amount</th>\n",
       "      <th>vehicle_class</th>\n",
       "      <th>vehicle_size</th>\n",
       "      <th>vehicle_type</th>\n",
       "      <th>month</th>\n",
       "    </tr>\n",
       "  </thead>\n",
       "  <tbody>\n",
       "    <tr>\n",
       "      <th>0</th>\n",
       "      <td>0</td>\n",
       "      <td>DK49336</td>\n",
       "      <td>Arizona</td>\n",
       "      <td>4809.216960</td>\n",
       "      <td>No</td>\n",
       "      <td>Basic</td>\n",
       "      <td>College</td>\n",
       "      <td>2011-02-18</td>\n",
       "      <td>Employed</td>\n",
       "      <td>M</td>\n",
       "      <td>...</td>\n",
       "      <td>9</td>\n",
       "      <td>Corporate Auto</td>\n",
       "      <td>Corporate L3</td>\n",
       "      <td>Offer3</td>\n",
       "      <td>Agent</td>\n",
       "      <td>292.800000</td>\n",
       "      <td>Four-Door Car</td>\n",
       "      <td>Medsize</td>\n",
       "      <td>A</td>\n",
       "      <td>2</td>\n",
       "    </tr>\n",
       "    <tr>\n",
       "      <th>1</th>\n",
       "      <td>1</td>\n",
       "      <td>KX64629</td>\n",
       "      <td>California</td>\n",
       "      <td>2228.525238</td>\n",
       "      <td>No</td>\n",
       "      <td>Basic</td>\n",
       "      <td>College</td>\n",
       "      <td>2011-01-18</td>\n",
       "      <td>Unemployed</td>\n",
       "      <td>F</td>\n",
       "      <td>...</td>\n",
       "      <td>1</td>\n",
       "      <td>Personal Auto</td>\n",
       "      <td>Personal L3</td>\n",
       "      <td>Offer4</td>\n",
       "      <td>Call Center</td>\n",
       "      <td>744.924331</td>\n",
       "      <td>Four-Door Car</td>\n",
       "      <td>Medsize</td>\n",
       "      <td>A</td>\n",
       "      <td>1</td>\n",
       "    </tr>\n",
       "    <tr>\n",
       "      <th>2</th>\n",
       "      <td>2</td>\n",
       "      <td>LZ68649</td>\n",
       "      <td>Washington</td>\n",
       "      <td>14947.917300</td>\n",
       "      <td>No</td>\n",
       "      <td>Basic</td>\n",
       "      <td>Bachelor</td>\n",
       "      <td>2011-02-10</td>\n",
       "      <td>Employed</td>\n",
       "      <td>M</td>\n",
       "      <td>...</td>\n",
       "      <td>2</td>\n",
       "      <td>Personal Auto</td>\n",
       "      <td>Personal L3</td>\n",
       "      <td>Offer3</td>\n",
       "      <td>Call Center</td>\n",
       "      <td>480.000000</td>\n",
       "      <td>SUV</td>\n",
       "      <td>Medsize</td>\n",
       "      <td>A</td>\n",
       "      <td>2</td>\n",
       "    </tr>\n",
       "    <tr>\n",
       "      <th>3</th>\n",
       "      <td>3</td>\n",
       "      <td>XL78013</td>\n",
       "      <td>Oregon</td>\n",
       "      <td>22332.439460</td>\n",
       "      <td>Yes</td>\n",
       "      <td>Extended</td>\n",
       "      <td>College</td>\n",
       "      <td>2011-01-11</td>\n",
       "      <td>Employed</td>\n",
       "      <td>M</td>\n",
       "      <td>...</td>\n",
       "      <td>2</td>\n",
       "      <td>Corporate Auto</td>\n",
       "      <td>Corporate L3</td>\n",
       "      <td>Offer2</td>\n",
       "      <td>Branch</td>\n",
       "      <td>484.013411</td>\n",
       "      <td>Four-Door Car</td>\n",
       "      <td>Medsize</td>\n",
       "      <td>A</td>\n",
       "      <td>1</td>\n",
       "    </tr>\n",
       "    <tr>\n",
       "      <th>4</th>\n",
       "      <td>4</td>\n",
       "      <td>QA50777</td>\n",
       "      <td>Oregon</td>\n",
       "      <td>9025.067525</td>\n",
       "      <td>No</td>\n",
       "      <td>Premium</td>\n",
       "      <td>Bachelor</td>\n",
       "      <td>2011-01-17</td>\n",
       "      <td>Medical Leave</td>\n",
       "      <td>F</td>\n",
       "      <td>...</td>\n",
       "      <td>7</td>\n",
       "      <td>Personal Auto</td>\n",
       "      <td>Personal L2</td>\n",
       "      <td>Offer1</td>\n",
       "      <td>Branch</td>\n",
       "      <td>707.925645</td>\n",
       "      <td>Four-Door Car</td>\n",
       "      <td>Medsize</td>\n",
       "      <td>A</td>\n",
       "      <td>1</td>\n",
       "    </tr>\n",
       "  </tbody>\n",
       "</table>\n",
       "<p>5 rows × 27 columns</p>\n",
       "</div>"
      ],
      "text/plain": [
       "   unnamed:_0 customer       state  customer_lifetime_value response  \\\n",
       "0           0  DK49336     Arizona              4809.216960       No   \n",
       "1           1  KX64629  California              2228.525238       No   \n",
       "2           2  LZ68649  Washington             14947.917300       No   \n",
       "3           3  XL78013      Oregon             22332.439460      Yes   \n",
       "4           4  QA50777      Oregon              9025.067525       No   \n",
       "\n",
       "   coverage education effective_to_date employmentstatus gender  ...  \\\n",
       "0     Basic   College        2011-02-18         Employed      M  ...   \n",
       "1     Basic   College        2011-01-18       Unemployed      F  ...   \n",
       "2     Basic  Bachelor        2011-02-10         Employed      M  ...   \n",
       "3  Extended   College        2011-01-11         Employed      M  ...   \n",
       "4   Premium  Bachelor        2011-01-17    Medical Leave      F  ...   \n",
       "\n",
       "   number_of_policies     policy_type        policy  renew_offer_type  \\\n",
       "0                   9  Corporate Auto  Corporate L3            Offer3   \n",
       "1                   1   Personal Auto   Personal L3            Offer4   \n",
       "2                   2   Personal Auto   Personal L3            Offer3   \n",
       "3                   2  Corporate Auto  Corporate L3            Offer2   \n",
       "4                   7   Personal Auto   Personal L2            Offer1   \n",
       "\n",
       "   sales_channel  total_claim_amount  vehicle_class  vehicle_size  \\\n",
       "0          Agent          292.800000  Four-Door Car       Medsize   \n",
       "1    Call Center          744.924331  Four-Door Car       Medsize   \n",
       "2    Call Center          480.000000            SUV       Medsize   \n",
       "3         Branch          484.013411  Four-Door Car       Medsize   \n",
       "4         Branch          707.925645  Four-Door Car       Medsize   \n",
       "\n",
       "  vehicle_type month  \n",
       "0            A     2  \n",
       "1            A     1  \n",
       "2            A     2  \n",
       "3            A     1  \n",
       "4            A     1  \n",
       "\n",
       "[5 rows x 27 columns]"
      ]
     },
     "execution_count": 58,
     "metadata": {},
     "output_type": "execute_result"
    }
   ],
   "source": [
    "df4.head()"
   ]
  },
  {
   "cell_type": "code",
   "execution_count": null,
   "id": "5d667bdf",
   "metadata": {},
   "outputs": [],
   "source": []
  },
  {
   "cell_type": "markdown",
   "id": "df35fd0d-513e-4e77-867e-429da10a9cc7",
   "metadata": {
    "id": "df35fd0d-513e-4e77-867e-429da10a9cc7"
   },
   "source": [
    "1. You work at the marketing department and you want to know which sales channel brought the most sales in terms of total revenue. Using pivot, create a summary table showing the total revenue for each sales channel (branch, call center, web, and mail).\n",
    "Round the total revenue to 2 decimal points.  Analyze the resulting table to draw insights."
   ]
  },
  {
   "cell_type": "code",
   "execution_count": 95,
   "id": "cf28cf47",
   "metadata": {},
   "outputs": [],
   "source": [
    "pivot1df4 = df4.pivot_table(index='sales_channel', columns='response', values=['customer_lifetime_value'], aggfunc='sum').round(2)"
   ]
  },
  {
   "cell_type": "code",
   "execution_count": 96,
   "id": "b131c10e",
   "metadata": {},
   "outputs": [
    {
     "data": {
      "text/html": [
       "<div>\n",
       "<style scoped>\n",
       "    .dataframe tbody tr th:only-of-type {\n",
       "        vertical-align: middle;\n",
       "    }\n",
       "\n",
       "    .dataframe tbody tr th {\n",
       "        vertical-align: top;\n",
       "    }\n",
       "\n",
       "    .dataframe thead tr th {\n",
       "        text-align: left;\n",
       "    }\n",
       "\n",
       "    .dataframe thead tr:last-of-type th {\n",
       "        text-align: right;\n",
       "    }\n",
       "</style>\n",
       "<table border=\"1\" class=\"dataframe\">\n",
       "  <thead>\n",
       "    <tr>\n",
       "      <th></th>\n",
       "      <th colspan=\"2\" halign=\"left\">customer_lifetime_value</th>\n",
       "    </tr>\n",
       "    <tr>\n",
       "      <th>response</th>\n",
       "      <th>No</th>\n",
       "      <th>Yes</th>\n",
       "    </tr>\n",
       "    <tr>\n",
       "      <th>sales_channel</th>\n",
       "      <th></th>\n",
       "      <th></th>\n",
       "    </tr>\n",
       "  </thead>\n",
       "  <tbody>\n",
       "    <tr>\n",
       "      <th>Agent</th>\n",
       "      <td>27360005.24</td>\n",
       "      <td>5697882.61</td>\n",
       "    </tr>\n",
       "    <tr>\n",
       "      <th>Branch</th>\n",
       "      <td>21694650.42</td>\n",
       "      <td>2664550.79</td>\n",
       "    </tr>\n",
       "    <tr>\n",
       "      <th>Call Center</th>\n",
       "      <td>15501986.18</td>\n",
       "      <td>1862302.19</td>\n",
       "    </tr>\n",
       "    <tr>\n",
       "      <th>Web</th>\n",
       "      <td>11366553.25</td>\n",
       "      <td>1331079.65</td>\n",
       "    </tr>\n",
       "  </tbody>\n",
       "</table>\n",
       "</div>"
      ],
      "text/plain": [
       "              customer_lifetime_value            \n",
       "response                           No         Yes\n",
       "sales_channel                                    \n",
       "Agent                     27360005.24  5697882.61\n",
       "Branch                    21694650.42  2664550.79\n",
       "Call Center               15501986.18  1862302.19\n",
       "Web                       11366553.25  1331079.65"
      ]
     },
     "execution_count": 96,
     "metadata": {},
     "output_type": "execute_result"
    }
   ],
   "source": [
    "pivot1df4"
   ]
  },
  {
   "cell_type": "markdown",
   "id": "640993b2-a291-436c-a34d-a551144f8196",
   "metadata": {
    "id": "640993b2-a291-436c-a34d-a551144f8196"
   },
   "source": [
    "2. Create a pivot table that shows the average customer lifetime value per gender and education level. Analyze the resulting table to draw insights."
   ]
  },
  {
   "cell_type": "code",
   "execution_count": 101,
   "id": "923d569b",
   "metadata": {},
   "outputs": [
    {
     "data": {
      "text/html": [
       "<div>\n",
       "<style scoped>\n",
       "    .dataframe tbody tr th:only-of-type {\n",
       "        vertical-align: middle;\n",
       "    }\n",
       "\n",
       "    .dataframe tbody tr th {\n",
       "        vertical-align: top;\n",
       "    }\n",
       "\n",
       "    .dataframe thead th {\n",
       "        text-align: right;\n",
       "    }\n",
       "</style>\n",
       "<table border=\"1\" class=\"dataframe\">\n",
       "  <thead>\n",
       "    <tr style=\"text-align: right;\">\n",
       "      <th>gender</th>\n",
       "      <th>F</th>\n",
       "      <th>M</th>\n",
       "    </tr>\n",
       "    <tr>\n",
       "      <th>education</th>\n",
       "      <th></th>\n",
       "      <th></th>\n",
       "    </tr>\n",
       "  </thead>\n",
       "  <tbody>\n",
       "    <tr>\n",
       "      <th>Bachelor</th>\n",
       "      <td>7874.27</td>\n",
       "      <td>7703.60</td>\n",
       "    </tr>\n",
       "    <tr>\n",
       "      <th>College</th>\n",
       "      <td>7748.82</td>\n",
       "      <td>8052.46</td>\n",
       "    </tr>\n",
       "    <tr>\n",
       "      <th>Doctor</th>\n",
       "      <td>7328.51</td>\n",
       "      <td>7415.33</td>\n",
       "    </tr>\n",
       "    <tr>\n",
       "      <th>High School or Below</th>\n",
       "      <td>8675.22</td>\n",
       "      <td>8149.69</td>\n",
       "    </tr>\n",
       "    <tr>\n",
       "      <th>Master</th>\n",
       "      <td>8157.05</td>\n",
       "      <td>8168.83</td>\n",
       "    </tr>\n",
       "  </tbody>\n",
       "</table>\n",
       "</div>"
      ],
      "text/plain": [
       "gender                      F        M\n",
       "education                             \n",
       "Bachelor              7874.27  7703.60\n",
       "College               7748.82  8052.46\n",
       "Doctor                7328.51  7415.33\n",
       "High School or Below  8675.22  8149.69\n",
       "Master                8157.05  8168.83"
      ]
     },
     "execution_count": 101,
     "metadata": {},
     "output_type": "execute_result"
    }
   ],
   "source": [
    "pivot2df4 = df4.pivot_table(index = 'education', columns = 'gender', values = 'customer_lifetime_value', aggfunc = 'mean').round(2)\n",
    "pivot2df4"
   ]
  },
  {
   "cell_type": "markdown",
   "id": "32c7f2e5-3d90-43e5-be33-9781b6069198",
   "metadata": {
    "id": "32c7f2e5-3d90-43e5-be33-9781b6069198"
   },
   "source": [
    "## Bonus\n",
    "\n",
    "You work at the customer service department and you want to know which months had the highest number of complaints by policy type category. Create a summary table showing the number of complaints by policy type and month.\n",
    "Show it in a long format table."
   ]
  },
  {
   "cell_type": "markdown",
   "id": "e3d09a8f-953c-448a-a5f8-2e5a8cca7291",
   "metadata": {
    "id": "e3d09a8f-953c-448a-a5f8-2e5a8cca7291"
   },
   "source": [
    "*In data analysis, a long format table is a way of structuring data in which each observation or measurement is stored in a separate row of the table. The key characteristic of a long format table is that each column represents a single variable, and each row represents a single observation of that variable.*\n",
    "\n",
    "*More information about long and wide format tables here: https://www.statology.org/long-vs-wide-data/*"
   ]
  },
  {
   "cell_type": "code",
   "execution_count": 108,
   "id": "3a069e0b-b400-470e-904d-d17582191be4",
   "metadata": {
    "id": "3a069e0b-b400-470e-904d-d17582191be4"
   },
   "outputs": [
    {
     "name": "stdout",
     "output_type": "stream",
     "text": [
      "month                     1            2\n",
      "policy_type                             \n",
      "Corporate Auto   443.434952   385.208135\n",
      "Personal Auto   1727.605722  1453.684441\n",
      "Special Auto      87.074049    95.226817\n"
     ]
    }
   ],
   "source": [
    "pivot3df4 = df4.pivot_table(index = 'policy_type', columns = 'month', values = 'number_of_open_complaints', aggfunc = \"sum\")\n",
    "df5 = pivot3df4\n",
    "print (df5)"
   ]
  },
  {
   "cell_type": "code",
   "execution_count": 111,
   "id": "b89c0b97",
   "metadata": {},
   "outputs": [
    {
     "data": {
      "text/html": [
       "<div>\n",
       "<style scoped>\n",
       "    .dataframe tbody tr th:only-of-type {\n",
       "        vertical-align: middle;\n",
       "    }\n",
       "\n",
       "    .dataframe tbody tr th {\n",
       "        vertical-align: top;\n",
       "    }\n",
       "\n",
       "    .dataframe thead th {\n",
       "        text-align: right;\n",
       "    }\n",
       "</style>\n",
       "<table border=\"1\" class=\"dataframe\">\n",
       "  <thead>\n",
       "    <tr style=\"text-align: right;\">\n",
       "      <th>month</th>\n",
       "      <th>1</th>\n",
       "      <th>2</th>\n",
       "    </tr>\n",
       "    <tr>\n",
       "      <th>policy_type</th>\n",
       "      <th></th>\n",
       "      <th></th>\n",
       "    </tr>\n",
       "  </thead>\n",
       "  <tbody>\n",
       "    <tr>\n",
       "      <th>Corporate Auto</th>\n",
       "      <td>443.434952</td>\n",
       "      <td>385.208135</td>\n",
       "    </tr>\n",
       "    <tr>\n",
       "      <th>Personal Auto</th>\n",
       "      <td>1727.605722</td>\n",
       "      <td>1453.684441</td>\n",
       "    </tr>\n",
       "    <tr>\n",
       "      <th>Special Auto</th>\n",
       "      <td>87.074049</td>\n",
       "      <td>95.226817</td>\n",
       "    </tr>\n",
       "  </tbody>\n",
       "</table>\n",
       "</div>"
      ],
      "text/plain": [
       "month                     1            2\n",
       "policy_type                             \n",
       "Corporate Auto   443.434952   385.208135\n",
       "Personal Auto   1727.605722  1453.684441\n",
       "Special Auto      87.074049    95.226817"
      ]
     },
     "execution_count": 111,
     "metadata": {},
     "output_type": "execute_result"
    }
   ],
   "source": [
    "df5.head()"
   ]
  },
  {
   "cell_type": "code",
   "execution_count": 115,
   "id": "624ef48b",
   "metadata": {},
   "outputs": [
    {
     "data": {
      "text/html": [
       "<div>\n",
       "<style scoped>\n",
       "    .dataframe tbody tr th:only-of-type {\n",
       "        vertical-align: middle;\n",
       "    }\n",
       "\n",
       "    .dataframe tbody tr th {\n",
       "        vertical-align: top;\n",
       "    }\n",
       "\n",
       "    .dataframe thead th {\n",
       "        text-align: right;\n",
       "    }\n",
       "</style>\n",
       "<table border=\"1\" class=\"dataframe\">\n",
       "  <thead>\n",
       "    <tr style=\"text-align: right;\">\n",
       "      <th></th>\n",
       "      <th>month</th>\n",
       "      <th>policy_type</th>\n",
       "      <th>Indicator</th>\n",
       "      <th>Value</th>\n",
       "    </tr>\n",
       "  </thead>\n",
       "  <tbody>\n",
       "    <tr>\n",
       "      <th>0</th>\n",
       "      <td>2</td>\n",
       "      <td>Corporate Auto</td>\n",
       "      <td>number_of_open_complaints</td>\n",
       "      <td>0.000000</td>\n",
       "    </tr>\n",
       "    <tr>\n",
       "      <th>1</th>\n",
       "      <td>1</td>\n",
       "      <td>Personal Auto</td>\n",
       "      <td>number_of_open_complaints</td>\n",
       "      <td>0.000000</td>\n",
       "    </tr>\n",
       "    <tr>\n",
       "      <th>2</th>\n",
       "      <td>2</td>\n",
       "      <td>Personal Auto</td>\n",
       "      <td>number_of_open_complaints</td>\n",
       "      <td>0.000000</td>\n",
       "    </tr>\n",
       "    <tr>\n",
       "      <th>3</th>\n",
       "      <td>1</td>\n",
       "      <td>Corporate Auto</td>\n",
       "      <td>number_of_open_complaints</td>\n",
       "      <td>0.000000</td>\n",
       "    </tr>\n",
       "    <tr>\n",
       "      <th>4</th>\n",
       "      <td>1</td>\n",
       "      <td>Personal Auto</td>\n",
       "      <td>number_of_open_complaints</td>\n",
       "      <td>0.384256</td>\n",
       "    </tr>\n",
       "  </tbody>\n",
       "</table>\n",
       "</div>"
      ],
      "text/plain": [
       "   month     policy_type                  Indicator     Value\n",
       "0      2  Corporate Auto  number_of_open_complaints  0.000000\n",
       "1      1   Personal Auto  number_of_open_complaints  0.000000\n",
       "2      2   Personal Auto  number_of_open_complaints  0.000000\n",
       "3      1  Corporate Auto  number_of_open_complaints  0.000000\n",
       "4      1   Personal Auto  number_of_open_complaints  0.384256"
      ]
     },
     "execution_count": 115,
     "metadata": {},
     "output_type": "execute_result"
    }
   ],
   "source": [
    "pd.melt(df, id_vars=['policy_type'])\n",
    "melted_data.head()"
   ]
  },
  {
   "cell_type": "code",
   "execution_count": null,
   "id": "e369af2a",
   "metadata": {},
   "outputs": [],
   "source": []
  }
 ],
 "metadata": {
  "colab": {
   "provenance": []
  },
  "kernelspec": {
   "display_name": "Python 3 (ipykernel)",
   "language": "python",
   "name": "python3"
  },
  "language_info": {
   "codemirror_mode": {
    "name": "ipython",
    "version": 3
   },
   "file_extension": ".py",
   "mimetype": "text/x-python",
   "name": "python",
   "nbconvert_exporter": "python",
   "pygments_lexer": "ipython3",
   "version": "3.11.5"
  }
 },
 "nbformat": 4,
 "nbformat_minor": 5
}
